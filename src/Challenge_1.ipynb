{
 "cells": [
  {
   "cell_type": "markdown",
   "id": "bd0a3905-b346-43d5-9791-d3869299eb9d",
   "metadata": {},
   "source": [
    "# API wrappers"
   ]
  },
  {
   "cell_type": "markdown",
   "id": "327b4075-5374-4ecf-b8c5-c106d20d80e1",
   "metadata": {},
   "source": [
    "The OpenWeatherMap offers REST endpoints for querying current weather, forecasts, historical data, etc. However, accessing this data directly via the REST API requires handling multiple API calls, query parameters, and response parsing. The pyowm library abstracts these complexities and provides useful built-in functionalities."
   ]
  },
  {
   "cell_type": "markdown",
   "id": "1d731d49-fd79-44c8-8f72-68194c99fec0",
   "metadata": {},
   "source": [
    "After signing in to OpenWeatherMap retrieve your api key at https://home.openweathermap.org/api_keys\n",
    "\n",
    "You will also need to install the pyowm package: pip install pyowm "
   ]
  },
  {
   "cell_type": "code",
   "execution_count": 15,
   "id": "738acdfd",
   "metadata": {},
   "outputs": [
    {
     "name": "stdout",
     "output_type": "stream",
     "text": [
      "Requirement already satisfied: pyowm in /opt/anaconda3/lib/python3.12/site-packages (3.3.0)\n",
      "Requirement already satisfied: requests<3,>=2.20.0 in /opt/anaconda3/lib/python3.12/site-packages (from pyowm) (2.32.3)\n",
      "Requirement already satisfied: geojson<3,>=2.3.0 in /opt/anaconda3/lib/python3.12/site-packages (from pyowm) (2.5.0)\n",
      "Requirement already satisfied: PySocks<2,>=1.7.1 in /opt/anaconda3/lib/python3.12/site-packages (from pyowm) (1.7.1)\n",
      "Requirement already satisfied: charset-normalizer<4,>=2 in /opt/anaconda3/lib/python3.12/site-packages (from requests<3,>=2.20.0->pyowm) (3.3.2)\n",
      "Requirement already satisfied: idna<4,>=2.5 in /opt/anaconda3/lib/python3.12/site-packages (from requests<3,>=2.20.0->pyowm) (3.7)\n",
      "Requirement already satisfied: urllib3<3,>=1.21.1 in /opt/anaconda3/lib/python3.12/site-packages (from requests<3,>=2.20.0->pyowm) (2.2.3)\n",
      "Requirement already satisfied: certifi>=2017.4.17 in /opt/anaconda3/lib/python3.12/site-packages (from requests<3,>=2.20.0->pyowm) (2025.1.31)\n"
     ]
    }
   ],
   "source": [
    "# Step 1: Install pyowm if not already installed\n",
    "!pip install pyowm\n"
   ]
  },
  {
   "cell_type": "code",
   "execution_count": 16,
   "id": "18fb8b79",
   "metadata": {},
   "outputs": [
    {
     "name": "stdout",
     "output_type": "stream",
     "text": [
      "2025-05-15 15:00:00+00:00 → 13.17°C\n",
      "2025-05-15 18:00:00+00:00 → 13.78°C\n",
      "2025-05-15 21:00:00+00:00 → 12.18°C\n"
     ]
    }
   ],
   "source": [
    "# Step 2: Import the OWM library and authenticate with your real API key\n",
    "from pyowm.owm import OWM\n",
    "\n",
    "owm = OWM('49468e95f98bef66f2a726727d5b8e15')  # ✅ Your real OpenWeatherMap key\n",
    "mgr = owm.weather_manager()\n",
    "\n",
    "# Step 3: Get 3-hour forecast for a specific city\n",
    "forecast = mgr.forecast_at_place(\"London\", '3h')\n",
    "\n",
    "# Step 4: Print the first 3 forecast entries (time and temperature)\n",
    "for entry in forecast.forecast.weathers[:3]:\n",
    "    temp = entry.temperature('celsius')['temp']\n",
    "    time = entry.reference_time('iso')\n",
    "    print(f\"{time} → {temp}°C\")\n",
    "\n"
   ]
  },
  {
   "cell_type": "markdown",
   "id": "f73d3029-c6a6-43b9-81a9-0e81c13bdf09",
   "metadata": {},
   "source": [
    "## use case 1: managing API keys\n",
    "\n",
    "In a raw rest API call you always have to manage credentials in each individual call. Wrappers usually store and manage the authentication for you"
   ]
  },
  {
   "cell_type": "code",
   "execution_count": 18,
   "id": "afbcdf71-845e-4aae-b8cc-8963745f7d4b",
   "metadata": {},
   "outputs": [
    {
     "data": {
      "text/plain": [
       "{'coord': {'lon': -0.1257, 'lat': 51.5085},\n",
       " 'weather': [{'id': 803,\n",
       "   'main': 'Clouds',\n",
       "   'description': 'broken clouds',\n",
       "   'icon': '04d'}],\n",
       " 'base': 'stations',\n",
       " 'main': {'temp': 286.14,\n",
       "  'feels_like': 285.35,\n",
       "  'temp_min': 285.68,\n",
       "  'temp_max': 287.04,\n",
       "  'pressure': 1024,\n",
       "  'humidity': 71,\n",
       "  'sea_level': 1024,\n",
       "  'grnd_level': 1020},\n",
       " 'visibility': 10000,\n",
       " 'wind': {'speed': 2.68, 'deg': 51, 'gust': 5.36},\n",
       " 'clouds': {'all': 81},\n",
       " 'dt': 1747318411,\n",
       " 'sys': {'type': 2,\n",
       "  'id': 2075535,\n",
       "  'country': 'GB',\n",
       "  'sunrise': 1747282115,\n",
       "  'sunset': 1747338318},\n",
       " 'timezone': 3600,\n",
       " 'id': 2643743,\n",
       " 'name': 'London',\n",
       " 'cod': 200}"
      ]
     },
     "execution_count": 18,
     "metadata": {},
     "output_type": "execute_result"
    }
   ],
   "source": [
    "#You can get current weather data by making a GET request to an endpoint like:\n",
    "\n",
    "params = {\n",
    "    'appid' : api_key\n",
    "}\n",
    "\n",
    "response = requests.get('https://api.openweathermap.org/data/2.5/weather?q=London', params = params)\n",
    "\n",
    "json.loads(response.text)\n",
    "\n",
    "#but for every call you make using GET from now on you do need to add the parameters, since the raw API does not manage authentication for you"
   ]
  },
  {
   "cell_type": "markdown",
   "id": "b82c585b-fd83-4f59-9d46-14225f3e5037",
   "metadata": {},
   "source": [
    "Most wrappers (pyowm included) include some way of initializing a session with the authentication key that you then don't need to type again.\n",
    "\n",
    "Initialize pyowm with the default configuration. Thenopen the weather manager\n",
    "\n",
    "Check out a snippet here: https://pyowm.readthedocs.io/en/latest/v3/code-recipes.html#weather_data"
   ]
  },
  {
   "cell_type": "code",
   "execution_count": 19,
   "id": "f376d466-5a69-4a47-b35d-1870cbef61ff",
   "metadata": {},
   "outputs": [],
   "source": [
    "#your code here\n",
    "\n",
    "from pyowm.owm import OWM\n",
    "\n",
    "# Initialize PyOWM with your actual OpenWeatherMap API key\n",
    "owm = OWM('49468e95f98bef66f2a726727d5b8e15')\n",
    "\n",
    "# Create a weather manager instance\n",
    "mgr = owm.weather_manager()\n",
    "\n"
   ]
  },
  {
   "cell_type": "markdown",
   "id": "840060e4-d3de-4b96-bb03-5bce02003f1d",
   "metadata": {},
   "source": [
    "## use case 2: Simplified calls\n",
    "\n",
    "With the raw REST API, you'd have to build a URL manually, send the request, and parse the JSON response to get the current weather."
   ]
  },
  {
   "cell_type": "code",
   "execution_count": 20,
   "id": "a2aa8395-0bed-4098-8881-0ffe93541b1f",
   "metadata": {},
   "outputs": [
    {
     "name": "stdout",
     "output_type": "stream",
     "text": [
      "Temperature: 286.32°C, Humidity: 70%, Wind Speed: 2.24 m/s\n"
     ]
    }
   ],
   "source": [
    "city = 'London'\n",
    "url = f'http://api.openweathermap.org/data/2.5/weather?q={city}'\n",
    "\n",
    "response = requests.get(url,params= params)\n",
    "data = response.json()\n",
    "temperature = data['main']['temp']\n",
    "humidity = data['main']['humidity']\n",
    "wind_speed = data['wind']['speed']\n",
    "\n",
    "print(f\"Temperature: {temperature}°C, Humidity: {humidity}%, Wind Speed: {wind_speed} m/s\")"
   ]
  },
  {
   "cell_type": "markdown",
   "id": "df5bc6df-bfb2-416d-8d06-3961d3a12234",
   "metadata": {},
   "source": [
    "Get the equivalent call as above for the city of London using the pyowm package"
   ]
  },
  {
   "cell_type": "code",
   "execution_count": 21,
   "id": "d1986770-4628-480b-b587-9ff5c42d301c",
   "metadata": {},
   "outputs": [
    {
     "name": "stdout",
     "output_type": "stream",
     "text": [
      "Temperature: 13.17°C, Humidity: 70%, Wind Speed: 2.24 m/s\n"
     ]
    }
   ],
   "source": [
    "#your code here\n",
    "\n",
    "# Get current weather for London using pyowm\n",
    "observation = mgr.weather_at_place(\"London\")\n",
    "weather = observation.weather\n",
    "\n",
    "# Extract values\n",
    "temperature = weather.temperature('celsius')['temp']\n",
    "humidity = weather.humidity\n",
    "wind_speed = weather.wind()['speed']\n",
    "\n",
    "# Display output\n",
    "print(f\"Temperature: {temperature}°C, Humidity: {humidity}%, Wind Speed: {wind_speed} m/s\")\n"
   ]
  },
  {
   "cell_type": "markdown",
   "id": "7e7b93b2-c383-4e49-8fce-a0923ac59031",
   "metadata": {},
   "source": [
    "## use case 3: Combining and chaining calls\n",
    "\n",
    "Wrappers often offer methods that make multiple calls to batch requests that make sense to batch. And often they offer methods that make sequences of calls that each returns information necessary to make the next call."
   ]
  },
  {
   "cell_type": "markdown",
   "id": "8f4a6b6c-f397-48ce-a3ef-f88e1fb95eb9",
   "metadata": {},
   "source": [
    "For example, to get a weather forecast for a specific city using the raw API you need to first geocode the city to get its latitude and longitude:"
   ]
  },
  {
   "cell_type": "code",
   "execution_count": 23,
   "id": "d182cf31-80f8-4b61-8de0-897d2d6479d7",
   "metadata": {},
   "outputs": [],
   "source": [
    "city = 'New York'\n",
    "geocode_url = f'http://api.openweathermap.org/data/2.5/weather?q={city}'\n",
    "geocode_response = requests.get(geocode_url,params=params).json()\n",
    "\n",
    "lat = geocode_response['coord']['lat']\n",
    "lon = geocode_response['coord']['lon']"
   ]
  },
  {
   "cell_type": "markdown",
   "id": "547c5deb-1070-4b72-b035-32ea5a615eda",
   "metadata": {},
   "source": [
    "Then, request the weather forecast for that latitude/longitude:"
   ]
  },
  {
   "cell_type": "code",
   "execution_count": 24,
   "id": "03737eff-cbc6-412f-b6a1-03e28b39b1e4",
   "metadata": {},
   "outputs": [
    {
     "name": "stdout",
     "output_type": "stream",
     "text": [
      "Time: 2025-05-15 15:00:00, Temp: 290.95°C\n",
      "Time: 2025-05-15 18:00:00, Temp: 292.11°C\n",
      "Time: 2025-05-15 21:00:00, Temp: 294.06°C\n",
      "Time: 2025-05-16 00:00:00, Temp: 292.22°C\n",
      "Time: 2025-05-16 03:00:00, Temp: 290.82°C\n",
      "Time: 2025-05-16 06:00:00, Temp: 289.71°C\n",
      "Time: 2025-05-16 09:00:00, Temp: 289.93°C\n",
      "Time: 2025-05-16 12:00:00, Temp: 291.93°C\n",
      "Time: 2025-05-16 15:00:00, Temp: 295.76°C\n",
      "Time: 2025-05-16 18:00:00, Temp: 296.21°C\n",
      "Time: 2025-05-16 21:00:00, Temp: 294.45°C\n",
      "Time: 2025-05-17 00:00:00, Temp: 292.13°C\n",
      "Time: 2025-05-17 03:00:00, Temp: 291.35°C\n",
      "Time: 2025-05-17 06:00:00, Temp: 291.58°C\n",
      "Time: 2025-05-17 09:00:00, Temp: 291.27°C\n",
      "Time: 2025-05-17 12:00:00, Temp: 292.75°C\n",
      "Time: 2025-05-17 15:00:00, Temp: 296.7°C\n",
      "Time: 2025-05-17 18:00:00, Temp: 299.11°C\n",
      "Time: 2025-05-17 21:00:00, Temp: 299.96°C\n",
      "Time: 2025-05-18 00:00:00, Temp: 297.98°C\n",
      "Time: 2025-05-18 03:00:00, Temp: 295.98°C\n",
      "Time: 2025-05-18 06:00:00, Temp: 292.06°C\n",
      "Time: 2025-05-18 09:00:00, Temp: 289.47°C\n",
      "Time: 2025-05-18 12:00:00, Temp: 290.09°C\n",
      "Time: 2025-05-18 15:00:00, Temp: 291.75°C\n",
      "Time: 2025-05-18 18:00:00, Temp: 290.73°C\n",
      "Time: 2025-05-18 21:00:00, Temp: 291.16°C\n",
      "Time: 2025-05-19 00:00:00, Temp: 290.02°C\n",
      "Time: 2025-05-19 03:00:00, Temp: 288.19°C\n",
      "Time: 2025-05-19 06:00:00, Temp: 286.91°C\n",
      "Time: 2025-05-19 09:00:00, Temp: 286.14°C\n",
      "Time: 2025-05-19 12:00:00, Temp: 287.67°C\n",
      "Time: 2025-05-19 15:00:00, Temp: 293.06°C\n",
      "Time: 2025-05-19 18:00:00, Temp: 295.98°C\n",
      "Time: 2025-05-19 21:00:00, Temp: 295.89°C\n",
      "Time: 2025-05-20 00:00:00, Temp: 292.34°C\n",
      "Time: 2025-05-20 03:00:00, Temp: 288.95°C\n",
      "Time: 2025-05-20 06:00:00, Temp: 287.15°C\n",
      "Time: 2025-05-20 09:00:00, Temp: 286.11°C\n",
      "Time: 2025-05-20 12:00:00, Temp: 287.7°C\n"
     ]
    }
   ],
   "source": [
    "forecast_url = f'http://api.openweathermap.org/data/2.5/forecast?lat={lat}&lon={lon}'\n",
    "forecast_response = requests.get(forecast_url, params=params).json()\n",
    "\n",
    "for entry in forecast_response['list']:\n",
    "    print(f\"Time: {entry['dt_txt']}, Temp: {entry['main']['temp']}°C\")"
   ]
  },
  {
   "cell_type": "markdown",
   "id": "f75ab558-7500-40fa-a4aa-93a18053059a",
   "metadata": {},
   "source": [
    "Two calls: one for geocoding, one for forecasts.\n",
    "But with pyowm, because this is a common operation, there is a method that handles the geocoding internally and then fetches the weather forecast in one step.\n",
    "\n",
    "Get the above forecast in a single call using pyowm.\n",
    "\n",
    "Hint: search for \"forecast_at_place\" in the code recipies of the documentation"
   ]
  },
  {
   "cell_type": "code",
   "execution_count": 25,
   "id": "11e3c1a8-260d-467c-8f47-793fd62a239b",
   "metadata": {},
   "outputs": [
    {
     "name": "stdout",
     "output_type": "stream",
     "text": [
      "2025-05-15 15:00:00+00:00 → 17.8°C\n",
      "2025-05-15 18:00:00+00:00 → 18.96°C\n",
      "2025-05-15 21:00:00+00:00 → 20.91°C\n"
     ]
    }
   ],
   "source": [
    "#your code here\n",
    "\n",
    "# Get 3-hour forecast directly for New York (no need to geocode manually)\n",
    "forecast = mgr.forecast_at_place(\"New York\", \"3h\")\n",
    "\n",
    "# Print the first 3 forecasted entries: time and temperature\n",
    "for entry in forecast.forecast.weathers[:3]:\n",
    "    time = entry.reference_time('iso')\n",
    "    temp = entry.temperature('celsius')['temp']\n",
    "    print(f\"{time} → {temp}°C\")\n"
   ]
  },
  {
   "cell_type": "markdown",
   "id": "7ab2b0cc-0d16-4da5-be3e-b8466faecca3",
   "metadata": {},
   "source": [
    "## use case 4: Convenience methods\n",
    "\n",
    "Wrappers often offer built-in methods to handle common kinds of tasks related to the APIs, reducing the need for manual calculations.\n",
    "\n",
    "for example converting units (e.g., temperature from Celsius to Fahrenheit) or working with more complex data requires manual conversion when using the raw API."
   ]
  },
  {
   "cell_type": "code",
   "execution_count": 27,
   "id": "c8e68dad-a503-49cf-9c1e-72e9ed1fab3d",
   "metadata": {},
   "outputs": [
    {
     "name": "stdout",
     "output_type": "stream",
     "text": [
      "Temperature in Celsius: 286.32°C, Fahrenheit: 547.376°F\n"
     ]
    }
   ],
   "source": [
    "city = 'London'\n",
    "url = f'http://api.openweathermap.org/data/2.5/weather?q={city}&appid={api_key}'\n",
    "\n",
    "response = requests.get(url)\n",
    "data = response.json()\n",
    "temperature_celsius = data['main']['temp']\n",
    "temperature_fahrenheit = (temperature_celsius * 9/5) + 32\n",
    "\n",
    "print(f\"Temperature in Celsius: {temperature_celsius}°C, Fahrenheit: {temperature_fahrenheit}°F\")"
   ]
  },
  {
   "cell_type": "markdown",
   "id": "9b05658c-e9cb-491d-8554-ab4d6dd56e1d",
   "metadata": {},
   "source": [
    "But the pyowm wrapper offers built-in methods to handle these kinds of tasks, reducing the need for manual calculations.\n",
    "Get the temperature both in Celcius and Farenheit using pyowm. Navigate the code recipes to figure out the inbuilt methods for this."
   ]
  },
  {
   "cell_type": "code",
   "execution_count": 28,
   "id": "4695bb83-bc35-4c1b-b390-5ea2027984ef",
   "metadata": {},
   "outputs": [
    {
     "name": "stdout",
     "output_type": "stream",
     "text": [
      "Temperature in Celsius: 13.17°C, Fahrenheit: 55.71°F\n"
     ]
    }
   ],
   "source": [
    "#your code here\n",
    "\n",
    "# Get current weather observation for London\n",
    "observation = mgr.weather_at_place(\"London\")\n",
    "weather = observation.weather\n",
    "\n",
    "# Get temperature directly in both Celsius and Fahrenheit\n",
    "temp_celsius = weather.temperature('celsius')['temp']\n",
    "temp_fahrenheit = weather.temperature('fahrenheit')['temp']\n",
    "\n",
    "print(f\"Temperature in Celsius: {temp_celsius}°C, Fahrenheit: {temp_fahrenheit}°F\")\n"
   ]
  }
 ],
 "metadata": {
  "kernelspec": {
   "display_name": "base",
   "language": "python",
   "name": "python3"
  },
  "language_info": {
   "codemirror_mode": {
    "name": "ipython",
    "version": 3
   },
   "file_extension": ".py",
   "mimetype": "text/x-python",
   "name": "python",
   "nbconvert_exporter": "python",
   "pygments_lexer": "ipython3",
   "version": "3.12.7"
  }
 },
 "nbformat": 4,
 "nbformat_minor": 5
}
